{
 "cells": [
  {
   "cell_type": "markdown",
   "id": "subsequent-wealth",
   "metadata": {},
   "source": [
    "# NWB Conversion Tools - Simple Tutorial"
   ]
  },
  {
   "cell_type": "code",
   "execution_count": null,
   "id": "southern-singapore",
   "metadata": {},
   "outputs": [],
   "source": [
    "from pathlib import Path\n",
    "from datetime import datetime\n",
    "\n",
    "from pynwb import NWBHDF5IO\n",
    "\n",
    "from nwb_conversion_tools import NWBConverter, RecordingTutorialInterface, SortingTutorialInterface"
   ]
  },
  {
   "cell_type": "markdown",
   "id": "swedish-payment",
   "metadata": {},
   "source": [
    "## Define conversion class and its internal data interfaces (*i.e.*, the name of format)\n",
    "### For a full list of supported formats, [see this list](https://nwb-conversion-tools.readthedocs.io/en/conversion_guide/converting_data_to_nwb.html), or [make your own data interface](https://nwb-conversion-tools.readthedocs.io/en/conversion_guide/data_interface.html)"
   ]
  },
  {
   "cell_type": "code",
   "execution_count": null,
   "id": "adjacent-density",
   "metadata": {},
   "outputs": [],
   "source": [
    "class TutorialNWBConverter(NWBConverter):\n",
    "    data_interface_classes = dict(\n",
    "        RecordingTutorial=RecordingTutorialInterface,\n",
    "        SortingTutorial=SortingTutorialInterface\n",
    "    )"
   ]
  },
  {
   "cell_type": "markdown",
   "id": "single-stand",
   "metadata": {},
   "source": [
    "## Construct arguments for the converter class and run conversion"
   ]
  },
  {
   "cell_type": "code",
   "execution_count": null,
   "id": "announced-table",
   "metadata": {},
   "outputs": [],
   "source": [
    "# Custom parameters for simulated toy data\n",
    "duration = 10.  # Seconds\n",
    "num_channels = 4\n",
    "num_units = 10\n",
    "sampling_frequency = 30000.  # Hz\n",
    "\n",
    "stub_test = False  # Truncates data write for faster quality checking\n",
    "\n",
    "output_file = \"NWBConversionToolsSimpleTutorial.nwb\"\n",
    "\n",
    "# Input arguments to each interface\n",
    "# For actual data formats, these arguments are typically file or folder paths to the data\n",
    "source_data = dict(\n",
    "    RecordingTutorial=dict(\n",
    "        duration=duration,\n",
    "        num_channels=num_channels,\n",
    "        sampling_frequency=sampling_frequency\n",
    "    ),\n",
    "    SortingTutorial=dict(\n",
    "        duration=duration,\n",
    "        num_units=num_units,\n",
    "        sampling_frequency=sampling_frequency\n",
    "    )\n",
    ")\n",
    "\n",
    "# Initialize converter\n",
    "converter = TutorialNWBConverter(source_data=source_data)\n",
    "\n",
    "# Get metadata from source data\n",
    "# For actual data formats, this generally pulls informatin from the header files for each interface\n",
    "metadata = converter.get_metadata()\n",
    "\n",
    "# User-input metadata\n",
    "metadata[\"NWBFile\"][\"session_description\"] = \"NWB Conversion Tools tutorial.\"\n",
    "metadata[\"NWBFile\"][\"experimenter\"] = [\"My name\"]\n",
    "metadata[\"NWBFile\"]['session_start_time'] = datetime.now().astimezone().strftime(\"%Y-%m-%dT%H:%M:%S\")\n",
    "metadata[\"Subject\"] = dict(subject_id=\"Name of imaginary testing subject (required for DANDI upload)\")\n",
    "\n",
    "# Conversion options for each interface\n",
    "# For actual data formats, these can vary widely - read the docstring for the interface you want to use by entering\n",
    "#     import nwb_conversion_tools\n",
    "#     nwb_conversion_tools.NameOfDataInterface.run_conversion?\n",
    "conversion_options = dict(\n",
    "    RecordingTutorial=dict(stub_test=stub_test),\n",
    "    SortingTutorial=dict()\n",
    ")\n",
    "\n",
    "# Run conversion\n",
    "converter.run_conversion(\n",
    "    metadata=metadata, \n",
    "    nwbfile_path=output_file, \n",
    "    save_to_file=True,  # If False, this instead returns the NWBFile object in memory\n",
    "    overwrite=True,  # If False, this appends an existing file\n",
    "    conversion_options=conversion_options\n",
    ")"
   ]
  },
  {
   "cell_type": "markdown",
   "id": "meaning-encoding",
   "metadata": {},
   "source": [
    "## View NWBFile with widgets"
   ]
  },
  {
   "cell_type": "code",
   "execution_count": null,
   "id": "international-ghana",
   "metadata": {},
   "outputs": [],
   "source": [
    "from nwbwidgets import nwb2widget\n",
    "\n",
    "io = NWBHDF5IO(output_file, \"r\", load_namespaces=True)\n",
    "\n",
    "nwbfile = io.read()\n",
    "\n",
    "nwb2widget(nwbfile)"
   ]
  },
  {
   "cell_type": "code",
   "execution_count": null,
   "id": "requested-virgin",
   "metadata": {},
   "outputs": [],
   "source": []
  }
 ],
 "metadata": {
  "kernelspec": {
   "display_name": "Python 3 (ipykernel)",
   "language": "python",
   "name": "python3"
  },
  "language_info": {
   "codemirror_mode": {
    "name": "ipython",
    "version": 3
   },
   "file_extension": ".py",
   "mimetype": "text/x-python",
   "name": "python",
   "nbconvert_exporter": "python",
   "pygments_lexer": "ipython3",
   "version": "3.9.10"
  }
 },
 "nbformat": 4,
 "nbformat_minor": 5
}
