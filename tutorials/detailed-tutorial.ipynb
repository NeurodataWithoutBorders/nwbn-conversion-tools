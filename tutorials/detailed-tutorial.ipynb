{
 "cells": [
  {
   "cell_type": "markdown",
   "id": "subsequent-wealth",
   "metadata": {},
   "source": [
    "# NWB Conversion Tools - Detailed Tutorial\n",
    "## Examine the direct output structure from each call from the \"Simple Tutorial\""
   ]
  },
  {
   "cell_type": "code",
   "execution_count": null,
   "id": "southern-singapore",
   "metadata": {},
   "outputs": [],
   "source": [
    "from pathlib import Path\n",
    "from pprint import pprint\n",
    "\n",
    "from pynwb import NWBHDF5IO\n",
    "\n",
    "from nwb_conversion_tools import NWBConverter, RecordingTutorialInterface, SortingTutorialInterface"
   ]
  },
  {
   "cell_type": "markdown",
   "id": "swedish-payment",
   "metadata": {},
   "source": [
    "## Pre-step: Define the conversion class and its internal data interface classes (*i.e.*, the names of each format)\n",
    "### For a full list of supported formats, [see this list](https://nwb-conversion-tools.readthedocs.io/en/conversion_guide/converting_data_to_nwb.html), or [make your own data interface](https://nwb-conversion-tools.readthedocs.io/en/conversion_guide/data_interface.html)"
   ]
  },
  {
   "cell_type": "code",
   "execution_count": null,
   "id": "adjacent-density",
   "metadata": {},
   "outputs": [],
   "source": [
    "class TutorialNWBConverter(NWBConverter):\n",
    "    data_interface_classes = dict(\n",
    "        RecordingTutorial=RecordingTutorialInterface,\n",
    "        SortingTutorial=SortingTutorialInterface\n",
    "    )"
   ]
  },
  {
   "cell_type": "markdown",
   "id": "single-stand",
   "metadata": {},
   "source": [
    "## Specify global arguments to be used throughout the code"
   ]
  },
  {
   "cell_type": "code",
   "execution_count": null,
   "id": "central-darwin",
   "metadata": {},
   "outputs": [],
   "source": [
    "# Custom parameters for simulated toy data\n",
    "duration = 10.  # Seconds\n",
    "num_channels = 4\n",
    "num_units = 10\n",
    "sampling_frequency = 30000.  # Hz\n",
    "\n",
    "stub_test = False  # Truncates data write for faster quality checking\n",
    "\n",
    "output_file = \"E:/NWBConversionToolsDetailedTutorial.nwb\""
   ]
  },
  {
   "cell_type": "markdown",
   "id": "nearby-mouse",
   "metadata": {},
   "source": [
    "## Step 1\n",
    "### Part A (hidden): request the structure of what the source_data should adhere to"
   ]
  },
  {
   "cell_type": "code",
   "execution_count": null,
   "id": "wanted-courtesy",
   "metadata": {},
   "outputs": [],
   "source": [
    "source_schema = TutorialNWBConverter.get_source_schema()\n",
    "pprint(source_schema[\"properties\"], width=120)"
   ]
  },
  {
   "cell_type": "markdown",
   "id": "intense-thumbnail",
   "metadata": {},
   "source": [
    "### Part B: Construct the source_data dictionary-of-dictionaries specified to mimic this schema precisely..."
   ]
  },
  {
   "cell_type": "code",
   "execution_count": null,
   "id": "announced-table",
   "metadata": {},
   "outputs": [],
   "source": [
    "source_data = dict(\n",
    "    RecordingTutorial=dict(\n",
    "        duration=duration,\n",
    "        num_channels=num_channels,\n",
    "        sampling_frequency=sampling_frequency\n",
    "    ),\n",
    "    SortingTutorial=dict(\n",
    "        duration=duration,\n",
    "        num_units=num_units,\n",
    "        sampling_frequency=sampling_frequency\n",
    "    )\n",
    ")"
   ]
  },
  {
   "cell_type": "markdown",
   "id": "touched-pricing",
   "metadata": {},
   "source": [
    "### Part C: the NWBConverter will internally verify that this input agrees with the expected schema"
   ]
  },
  {
   "cell_type": "code",
   "execution_count": null,
   "id": "suspended-gates",
   "metadata": {},
   "outputs": [],
   "source": [
    "converter = TutorialNWBConverter(source_data=source_data)"
   ]
  },
  {
   "cell_type": "markdown",
   "id": "confident-indicator",
   "metadata": {},
   "source": [
    "### Part D: after initializing the NWBConverter, you can check if each of the internal interfaces was instantiated by accessing the converter.data_interface_objects"
   ]
  },
  {
   "cell_type": "code",
   "execution_count": null,
   "id": "behavioral-doctrine",
   "metadata": {},
   "outputs": [],
   "source": [
    "print(\"Data interfaces for this converter: \\n\")\n",
    "pprint(converter.data_interface_objects, width=120)"
   ]
  },
  {
   "cell_type": "markdown",
   "id": "absent-appliance",
   "metadata": {},
   "source": [
    "## Step 2\n",
    "### Part A: similar to the source_schema, there is also a metadata_schema that can actually be more extensive, including all the various fields that might fit in the total NWB schema"
   ]
  },
  {
   "cell_type": "code",
   "execution_count": null,
   "id": "identified-guatemala",
   "metadata": {
    "scrolled": true
   },
   "outputs": [],
   "source": [
    "metadata_schema = converter.get_metadata_schema()\n",
    "pprint(metadata_schema, width=300)"
   ]
  },
  {
   "cell_type": "markdown",
   "id": "individual-masters",
   "metadata": {},
   "source": [
    "### Part B: the bulk of this can and is (wherever possible) automatically pulled from the interface.get_metadata() functions, the intersection of which is taken by the call to converter.get_metadata()"
   ]
  },
  {
   "cell_type": "code",
   "execution_count": null,
   "id": "developed-isolation",
   "metadata": {},
   "outputs": [],
   "source": [
    "metadata = converter.get_metadata()\n",
    "pprint(metadata, width=120)"
   ]
  },
  {
   "cell_type": "markdown",
   "id": "speaking-jason",
   "metadata": {},
   "source": [
    "### Part C: however, there are certain pieces of information that may not be contained in any downstream data file and must (or at least *can*) be manually inserted at this stage"
   ]
  },
  {
   "cell_type": "code",
   "execution_count": null,
   "id": "together-shelter",
   "metadata": {},
   "outputs": [],
   "source": [
    "metadata[\"NWBFile\"][\"session_description\"] = \"NWB Conversion Tools tutorial.\"\n",
    "metadata[\"NWBFile\"][\"experimenter\"] = [\"My name\"]\n",
    "metadata[\"Subject\"] = dict(subject_id=\"Name of imaginary testing subject (required for DANDI upload)\")"
   ]
  },
  {
   "cell_type": "markdown",
   "id": "authorized-puzzle",
   "metadata": {},
   "source": [
    "## Step 3\n",
    "### Part A: once again, we may fetch the expected schema for all the arguments that may be specified - this time, for the conversion specific options"
   ]
  },
  {
   "cell_type": "code",
   "execution_count": null,
   "id": "novel-origin",
   "metadata": {},
   "outputs": [],
   "source": [
    "conversion_options_schema = converter.get_conversion_options_schema()\n",
    "\n",
    "print(\"Conversion options for each data interface: \\n\")\n",
    "pprint(conversion_options_schema[\"properties\"], width=120)"
   ]
  },
  {
   "cell_type": "markdown",
   "id": "computational-abortion",
   "metadata": {},
   "source": [
    "### Part B: all we need to do is specify the set of required (and any additional optional) fields"
   ]
  },
  {
   "cell_type": "code",
   "execution_count": null,
   "id": "grand-minority",
   "metadata": {},
   "outputs": [],
   "source": [
    "conversion_options = dict(\n",
    "    RecordingTutorial=dict(stub_test=stub_test),\n",
    "    SortingTutorial=dict()\n",
    ")"
   ]
  },
  {
   "cell_type": "markdown",
   "id": "tested-beach",
   "metadata": {},
   "source": [
    "## Step 4\n",
    "### The conversion is ready to run in a single command!"
   ]
  },
  {
   "cell_type": "code",
   "execution_count": null,
   "id": "equal-virginia",
   "metadata": {},
   "outputs": [],
   "source": [
    "# Run conversion\n",
    "converter.run_conversion(\n",
    "    metadata=metadata, \n",
    "    nwbfile_path=output_file,\n",
    "    save_to_file=True,  # If False, this instead returns the NWBFile object in memory\n",
    "    overwrite = True,  # If False, this appends an existing file\n",
    "    conversion_options=conversion_options\n",
    ")"
   ]
  },
  {
   "cell_type": "markdown",
   "id": "meaning-encoding",
   "metadata": {},
   "source": [
    "## Print raw contents of NWBFile to verify the output is as expected"
   ]
  },
  {
   "cell_type": "code",
   "execution_count": null,
   "id": "international-ghana",
   "metadata": {},
   "outputs": [],
   "source": [
    "with NWBHDF5IO(output_file, \"r\", load_namespaces=True) as io:\n",
    "    nwbfile = io.read()\n",
    "    print(nwbfile)"
   ]
  },
  {
   "cell_type": "code",
   "execution_count": null,
   "id": "progressive-interview",
   "metadata": {},
   "outputs": [],
   "source": []
  }
 ],
 "metadata": {
  "kernelspec": {
   "display_name": "Python 3",
   "language": "python",
   "name": "python3"
  },
  "language_info": {
   "codemirror_mode": {
    "name": "ipython",
    "version": 3
   },
   "file_extension": ".py",
   "mimetype": "text/x-python",
   "name": "python",
   "nbconvert_exporter": "python",
   "pygments_lexer": "ipython3",
   "version": "3.9.1"
  }
 },
 "nbformat": 4,
 "nbformat_minor": 5
}
